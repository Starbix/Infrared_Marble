{
 "cells": [
  {
   "cell_type": "code",
   "execution_count": 1,
   "id": "8da69e43",
   "metadata": {},
   "outputs": [
    {
     "data": {
      "text/plain": [
       "<HDF5 file \"VNP46A1.A2018261.h27v06.001.2019197112657.h5\" (mode r)>"
      ]
     },
     "execution_count": 1,
     "metadata": {},
     "output_type": "execute_result"
    }
   ],
   "source": [
    "import h5py\n",
    "\n",
    "file = h5py.File(\"../data/blackmarble/raw/VNP46A1.A2018261.h27v06.001.2019197112657.h5\")\n",
    "\n",
    "file"
   ]
  },
  {
   "cell_type": "code",
   "execution_count": 5,
   "id": "aa945fdb",
   "metadata": {},
   "outputs": [
    {
     "data": {
      "text/plain": [
       "['BrightnessTemperature_M12',\n",
       " 'BrightnessTemperature_M13',\n",
       " 'BrightnessTemperature_M15',\n",
       " 'BrightnessTemperature_M16',\n",
       " 'DNB_At_Sensor_Radiance_500m',\n",
       " 'Glint_Angle',\n",
       " 'Granule',\n",
       " 'Lunar_Azimuth',\n",
       " 'Lunar_Zenith',\n",
       " 'Moon_Illumination_Fraction',\n",
       " 'Moon_Phase_Angle',\n",
       " 'QF_Cloud_Mask',\n",
       " 'QF_DNB',\n",
       " 'QF_VIIRS_M10',\n",
       " 'QF_VIIRS_M11',\n",
       " 'QF_VIIRS_M12',\n",
       " 'QF_VIIRS_M13',\n",
       " 'QF_VIIRS_M15',\n",
       " 'QF_VIIRS_M16',\n",
       " 'Radiance_M10',\n",
       " 'Radiance_M11',\n",
       " 'Sensor_Azimuth',\n",
       " 'Sensor_Zenith',\n",
       " 'Solar_Azimuth',\n",
       " 'Solar_Zenith',\n",
       " 'UTC_Time']"
      ]
     },
     "execution_count": 5,
     "metadata": {},
     "output_type": "execute_result"
    }
   ],
   "source": [
    "data: h5py.Group = file[\"HDFEOS/GRIDS/VNP_Grid_DNB/Data Fields\"]\n",
    "list(data.keys())"
   ]
  },
  {
   "cell_type": "code",
   "execution_count": null,
   "id": "5f79b8e5",
   "metadata": {},
   "outputs": [
    {
     "data": {
      "text/plain": [
       "array([  0,   2, 193], dtype=uint16)"
      ]
     },
     "execution_count": 13,
     "metadata": {},
     "output_type": "execute_result"
    },
    {
     "ename": "",
     "evalue": "",
     "output_type": "error",
     "traceback": [
      "\u001b[1;31mThe Kernel crashed while executing code in the current cell or a previous cell. \n",
      "\u001b[1;31mPlease review the code in the cell(s) to identify a possible cause of the failure. \n",
      "\u001b[1;31mClick <a href='https://aka.ms/vscodeJupyterKernelCrash'>here</a> for more info. \n",
      "\u001b[1;31mView Jupyter <a href='command:jupyter.viewOutput'>log</a> for further details."
     ]
    }
   ],
   "source": [
    "import numpy as np\n",
    "\n",
    "qf: h5py.Dataset = data[\"QF_VIIRS_M10\"]\n",
    "\n",
    "np.unique(qf[:])"
   ]
  }
 ],
 "metadata": {
  "kernelspec": {
   "display_name": "infrared-marble",
   "language": "python",
   "name": "python3"
  },
  "language_info": {
   "codemirror_mode": {
    "name": "ipython",
    "version": 3
   },
   "file_extension": ".py",
   "mimetype": "text/x-python",
   "name": "python",
   "nbconvert_exporter": "python",
   "pygments_lexer": "ipython3",
   "version": "3.12.9"
  }
 },
 "nbformat": 4,
 "nbformat_minor": 5
}

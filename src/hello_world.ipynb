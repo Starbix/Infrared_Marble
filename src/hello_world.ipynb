{
 "cells": [
  {
   "cell_type": "markdown",
   "id": "5cd1a1de-641b-43a8-9962-c8b9843eac12",
   "metadata": {},
   "source": [
    "# Test Notebook\n",
    "\n",
    "You can use this as a starting point."
   ]
  },
  {
   "cell_type": "code",
   "execution_count": 1,
   "id": "8c4095bf-4a51-4acf-8396-5bb4af8d1410",
   "metadata": {},
   "outputs": [
    {
     "name": "stdout",
     "output_type": "stream",
     "text": [
      "Hello world\n"
     ]
    }
   ],
   "source": [
    "print('Hello world')"
   ]
  }
 ],
 "metadata": {
  "kernelspec": {
   "display_name": "Python 3 (ipykernel)",
   "language": "python",
   "name": "python3"
  },
  "language_info": {
   "codemirror_mode": {
    "name": "ipython",
    "version": 3
   },
   "file_extension": ".py",
   "mimetype": "text/x-python",
   "name": "python",
   "nbconvert_exporter": "python",
   "pygments_lexer": "ipython3",
   "version": "3.12.9"
  }
 },
 "nbformat": 4,
 "nbformat_minor": 5
}
